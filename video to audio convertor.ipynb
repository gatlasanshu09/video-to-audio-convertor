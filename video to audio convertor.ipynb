{
 "cells": [
  {
   "cell_type": "code",
   "execution_count": null,
   "id": "b46ceae6",
   "metadata": {},
   "outputs": [],
   "source": [
    "import moviepy.editor\n",
    "from tkinter.filedialog import *"
   ]
  },
  {
   "cell_type": "code",
   "execution_count": null,
   "id": "ace5e941",
   "metadata": {},
   "outputs": [],
   "source": [
    "vid = askopenfilename()\n",
    "video=moviepy.editor.VideoFileClip(\"\")#give the video location to convert audio to video"
   ]
  },
  {
   "cell_type": "code",
   "execution_count": null,
   "id": "72b2c71d",
   "metadata": {},
   "outputs": [],
   "source": [
    "aud=video.audio\n",
    "aud.write_audiofile(\"demo.mp3\")"
   ]
  },
  {
   "cell_type": "code",
   "execution_count": null,
   "id": "13ef8577",
   "metadata": {},
   "outputs": [],
   "source": [
    "print(\"----end----\")"
   ]
  }
 ],
 "metadata": {
  "kernelspec": {
   "display_name": "Python 3 (ipykernel)",
   "language": "python",
   "name": "python3"
  },
  "language_info": {
   "codemirror_mode": {
    "name": "ipython",
    "version": 3
   },
   "file_extension": ".py",
   "mimetype": "text/x-python",
   "name": "python",
   "nbconvert_exporter": "python",
   "pygments_lexer": "ipython3",
   "version": "3.11.5"
  }
 },
 "nbformat": 4,
 "nbformat_minor": 5
}
